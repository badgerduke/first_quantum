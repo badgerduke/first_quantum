{
 "cells": [
  {
   "cell_type": "code",
   "execution_count": 17,
   "id": "7f0d76c3-01db-444c-99e6-1b577f6582bf",
   "metadata": {},
   "outputs": [],
   "source": [
    "from qiskit import *\n",
    "from qiskit.tools.visualization import plot_histogram, array_to_latex, plot_bloch_multivector\n",
    "from math import pi\n",
    "import matplotlib.pyplot as plt\n",
    "%matplotlib inline"
   ]
  },
  {
   "cell_type": "code",
   "execution_count": 28,
   "id": "4ee912be-6321-4052-b11c-d3a104a3c11a",
   "metadata": {},
   "outputs": [
    {
     "data": {
      "text/html": [
       "<style>:root { --jp-notebook-max-width: 100% !important; }</style>"
      ],
      "text/plain": [
       "<IPython.core.display.HTML object>"
      ]
     },
     "metadata": {},
     "output_type": "display_data"
    }
   ],
   "source": [
    "from IPython.display import display, HTML\n",
    "display(HTML(\"<style>:root { --jp-notebook-max-width: 100% !important; }</style>\"))"
   ]
  },
  {
   "cell_type": "code",
   "execution_count": 29,
   "id": "5a6fc96b-a9b3-4a65-814b-0aedfca4334a",
   "metadata": {},
   "outputs": [],
   "source": [
    "def matprint(mat, fmt=\"g\"):\n",
    "    col_maxes = [max([len((\"{:\"+fmt+\"}\").format(x)) for x in col]) for col in mat.T]\n",
    "    for x in mat:\n",
    "        for i, y in enumerate(x):\n",
    "            print((\"{:\"+str(col_maxes[i])+fmt+\"}\").format(y), end=\"  \")\n",
    "        print(\"\")"
   ]
  },
  {
   "cell_type": "code",
   "execution_count": 36,
   "id": "f627d294-6021-4a5a-a3dd-4f236aed4c82",
   "metadata": {},
   "outputs": [
    {
     "data": {
      "image/png": "[encoded data removed]",
      "text/plain": [
       "<Figure size 287.496x367.889 with 1 Axes>"
      ]
     },
     "execution_count": 36,
     "metadata": {},
     "output_type": "execute_result"
    }
   ],
   "source": [
    "qr = QuantumRegister(3, 'q')\n",
    "cr = ClassicalRegister(3, 'c')\n",
    "circuit = QuantumCircuit(qr, cr)\n",
    "circuit.z(qr[0])\n",
    "circuit.h(qr[1])\n",
    "circuit.cx(qr[1], qr[2])\n",
    "           \n",
    "circuit.draw(output='mpl', reverse_bits=True)"
   ]
  },
  {
   "cell_type": "code",
   "execution_count": 38,
   "id": "a04bb55b-d05a-4e8f-9bf6-94ddfa97db01",
   "metadata": {},
   "outputs": [
    {
     "data": {
      "image/png": "[encoded data removed]",
      "text/plain": [
       "<Figure size 287.496x367.889 with 1 Axes>"
      ]
     },
     "execution_count": 38,
     "metadata": {},
     "output_type": "execute_result"
    }
   ],
   "source": [
    "circuit.draw(output='mpl')"
   ]
  },
  {
   "cell_type": "code",
   "execution_count": 7,
   "id": "688577ef-c73b-415a-8b74-aa7bc3ccf1dd",
   "metadata": {},
   "outputs": [
    {
     "data": {
      "text/latex": [
       "$$\n",
       "\\text{statevector = }\n",
       "\n",
       "\\begin{bmatrix}\n",
       "\\frac{\\sqrt{2}}{2} & 0 & 0 & 0 & 0 & 0 & \\frac{\\sqrt{2}}{2} & 0  \\\\\n",
       " \\end{bmatrix}\n",
       "$$"
      ],
      "text/plain": [
       "<IPython.core.display.Latex object>"
      ]
     },
     "execution_count": 7,
     "metadata": {},
     "output_type": "execute_result"
    }
   ],
   "source": [
    "simulator = Aer.get_backend('statevector_simulator')  # create simulator returning state vector of qubit\n",
    "result = execute(circuit, backend = simulator).result()  # only single shot needed\n",
    "statevector = result.get_statevector()\n",
    "array_to_latex(statevector, prefix=\"\\\\text{statevector = }\\n\")  "
   ]
  },
  {
   "cell_type": "code",
   "execution_count": 8,
   "id": "00258fde-40ed-4fa5-8864-d9905cc7c60a",
   "metadata": {},
   "outputs": [
    {
     "name": "stderr",
     "output_type": "stream",
     "text": [
      "/home/duke/braket/braket/lib/python3.10/site-packages/qiskit/visualization/circuit/matplotlib.py:266: FutureWarning: The default matplotlib drawer scheme will be changed to \"iqp\" in a following release. To silence this warning, specify the current default explicitly as style=\"clifford\", or the new default as style=\"iqp\".\n",
      "  self._style, def_font_ratio = load_style(self._style)\n"
     ]
    },
    {
     "data": {
      "image/png": "[encoded data removed]",
      "text/plain": [
       "<Figure size 203.683x284.278 with 1 Axes>"
      ]
     },
     "execution_count": 8,
     "metadata": {},
     "output_type": "execute_result"
    }
   ],
   "source": [
    "qr = QuantumRegister(2, 'q')\n",
    "cr = ClassicalRegister(2, 'c')\n",
    "circuit = QuantumCircuit(qr, cr)\n",
    "circuit.cx(qr[0], qr[1])\n",
    "           \n",
    "circuit.draw(output='mpl')"
   ]
  },
  {
   "cell_type": "code",
   "execution_count": 11,
   "id": "6181f2d2-4aaa-4b80-bb29-24c6ebc18bd5",
   "metadata": {},
   "outputs": [
    {
     "name": "stdout",
     "output_type": "stream",
     "text": [
      "Operator([[1.+0.j, 0.+0.j, 0.+0.j, 0.+0.j],\n",
      "          [0.+0.j, 0.+0.j, 0.+0.j, 1.+0.j],\n",
      "          [0.+0.j, 0.+0.j, 1.+0.j, 0.+0.j],\n",
      "          [0.+0.j, 1.+0.j, 0.+0.j, 0.+0.j]],\n",
      "         input_dims=(2, 2), output_dims=(2, 2))\n"
     ]
    }
   ],
   "source": [
    "simulator = Aer.get_backend('unitary_simulator')\n",
    "result = execute(circuit, backend = simulator).result() \n",
    "print(result.get_unitary())"
   ]
  },
  {
   "cell_type": "code",
   "execution_count": 35,
   "id": "1a0dfb64-754a-4f9c-a6a5-f8374bf0d1de",
   "metadata": {},
   "outputs": [
    {
     "data": {
      "image/png": "[encoded data removed]",
      "text/plain": [
       "<Figure size 287.496x367.889 with 1 Axes>"
      ]
     },
     "execution_count": 35,
     "metadata": {},
     "output_type": "execute_result"
    }
   ],
   "source": [
    "qr = QuantumRegister(3, 'q')\n",
    "cr = ClassicalRegister(3, 'c')\n",
    "circuit = QuantumCircuit(qr, cr)\n",
    "circuit.z(qr[2])\n",
    "circuit.h(qr[1])\n",
    "circuit.cx(qr[1], qr[0])\n",
    "           \n",
    "circuit.draw(output='mpl', reverse_bits=True)"
   ]
  },
  {
   "cell_type": "code",
   "execution_count": 24,
   "id": "7d1ffc29-e720-4eb4-a606-7af72a262f65",
   "metadata": {},
   "outputs": [
    {
     "name": "stdout",
     "output_type": "stream",
     "text": [
      "0.707107+0j         0+0j   0.707107-8.65956e-17j                    0+0j          0+0j          0+0j                    0+0j                    0+0j  \n",
      "       0+0j  0.707107+0j                    0+0j   0.707107-8.65956e-17j          0+0j          0+0j                    0+0j                    0+0j  \n",
      "       0+0j  0.707107+0j                    0+0j  -0.707107+8.65956e-17j          0+0j          0+0j                    0+0j                    0+0j  \n",
      "0.707107+0j         0+0j  -0.707107+8.65956e-17j                    0+0j          0+0j          0+0j                    0+0j                    0+0j  \n",
      "      -0+0j        -0+0j                   -0+0j                   -0+0j  -0.707107+0j         -0+0j  -0.707107+8.65956e-17j                   -0+0j  \n",
      "      -0+0j        -0+0j                   -0+0j                   -0+0j         -0+0j  -0.707107+0j                   -0+0j  -0.707107+8.65956e-17j  \n",
      "      -0+0j        -0+0j                   -0+0j                   -0+0j         -0+0j  -0.707107+0j                   -0+0j   0.707107-8.65956e-17j  \n",
      "      -0+0j        -0+0j                   -0+0j                   -0+0j  -0.707107+0j         -0+0j   0.707107-8.65956e-17j                   -0+0j  \n"
     ]
    }
   ],
   "source": [
    "simulator = Aer.get_backend('unitary_simulator')\n",
    "result = execute(circuit, backend = simulator).result() \n",
    "matprint(result.get_unitary().data)"
   ]
  },
  {
   "cell_type": "code",
   "execution_count": 16,
   "id": "25b26424-f7bb-4e6c-8a6c-c4a54a4d8710",
   "metadata": {},
   "outputs": [
    {
     "data": {
      "text/latex": [
       "$$\n",
       "\\text{statevector = }\n",
       "\n",
       "\\begin{bmatrix}\n",
       "\\frac{\\sqrt{2}}{2} & 0 & 0 & \\frac{\\sqrt{2}}{2} & 0 & 0 & 0 & 0  \\\\\n",
       " \\end{bmatrix}\n",
       "$$"
      ],
      "text/plain": [
       "<IPython.core.display.Latex object>"
      ]
     },
     "execution_count": 16,
     "metadata": {},
     "output_type": "execute_result"
    }
   ],
   "source": [
    "simulator = Aer.get_backend('statevector_simulator')  # create simulator returning state vector of qubit\n",
    "result = execute(circuit, backend = simulator).result()  # only single shot needed\n",
    "statevector = result.get_statevector()\n",
    "array_to_latex(statevector, prefix=\"\\\\text{statevector = }\\n\")  "
   ]
  }
 ],
 "metadata": {
  "kernelspec": {
   "display_name": "Python 3 (ipykernel)",
   "language": "python",
   "name": "python3"
  },
  "language_info": {
   "codemirror_mode": {
    "name": "ipython",
    "version": 3
   },
   "file_extension": ".py",
   "mimetype": "text/x-python",
   "name": "python",
   "nbconvert_exporter": "python",
   "pygments_lexer": "ipython3",
   "version": "3.10.12"
  }
 },
 "nbformat": 4,
 "nbformat_minor": 5
}

{
 "cells": [
  {
   "cell_type": "markdown",
   "id": "4467ca2f-c598-46c1-8ab9-c90dcfe3481a",
   "metadata": {},
   "source": [
    "# IBM Quantum Computer Usage\n",
    "\n",
    "### pip install qiskit-ibm-runtime\n",
    "### pip install qiskit-ibm-provider"
   ]
  },
  {
   "cell_type": "code",
   "execution_count": 21,
   "id": "d7745382-ab9e-4829-bc18-4363ff93b30b",
   "metadata": {},
   "outputs": [],
   "source": [
    "from qiskit import QuantumCircuit\n",
    "from qiskit.quantum_info import Pauli\n",
    "from qiskit_ibm_provider import IBMProvider\n",
    "from qiskit_ibm_runtime import QiskitRuntimeService, Estimator, Options, Sampler\n",
    "from qiskit.tools.monitor import job_monitor"
   ]
  },
  {
   "cell_type": "code",
   "execution_count": 6,
   "id": "7fb05310-9a9d-41c4-831e-b0f98eac0884",
   "metadata": {},
   "outputs": [],
   "source": [
    "service = QiskitRuntimeService(\n",
    "    channel='ibm_quantum',\n",
    "    instance='ibm-q/open/main',\n",
    "    token='25585c82a0e22c022a860214b57981e10490fc0e2a204fd5b4d66e1d0aa8b622481eaaceae7a6927c911cff0bbd76e09523cc7a337baa92b2d0078ecaa79b76b'\n",
    ")\n",
    "\n",
    "# Or save your credentials on disk.\n",
    "# QiskitRuntimeService.save_account(channel='ibm_quantum', instance='ibm-q/open/main', token='<IBM Quantum API key>')"
   ]
  },
  {
   "cell_type": "code",
   "execution_count": null,
   "id": "363b0525-3e46-4ba9-9189-8a02a20e6ed1",
   "metadata": {
    "scrolled": true
   },
   "outputs": [],
   "source": [
    "from qiskit_ibm_provider import IBMProvider\n",
    "\n",
    "# Save your credentials on disk.\n",
    "# IBMProvider.save_account(token='<IBM Quantum API key>')\n",
    "\n",
    "provider = IBMProvider(instance='ibm-q/open/main')\n",
    "\n",
    "# find a qunatum computer to connect to\n",
    "qcomp = provider.get_backend('ibmq_qasm_simulator')\n",
    "\n",
    "# execute a quantum circuit  (circuit, backend)\n",
    "job = execute(circuit, qcomp)\n",
    "\n",
    "# monitor job\n",
    "job_monitor(job)"
   ]
  },
  {
   "cell_type": "code",
   "execution_count": 9,
   "id": "8b528c01-647b-4412-801f-e0308ac376e6",
   "metadata": {},
   "outputs": [
    {
     "name": "stdout",
     "output_type": "stream",
     "text": [
      "job id: cmv7aofn6tkp35gr8450\n",
      "SamplerResult(quasi_dists=[{0: 1.0}], metadata=[{'shots': 4000, 'circuit_metadata': {}}])\n"
     ]
    }
   ],
   "source": [
    "\n",
    " \n",
    " # Create empty circuit\n",
    " example_circuit = QuantumCircuit(2)\n",
    " example_circuit.measure_all()\n",
    " \n",
    " # You'll need to specify the credentials when initializing QiskitRuntimeService, if they were not previously saved.\n",
    " # service = QiskitRuntimeService()\n",
    " backend = service.backend(\"ibmq_qasm_simulator\")\n",
    " job = Sampler(backend).run(example_circuit)\n",
    " print(f\"job id: {job.job_id()}\")\n",
    " result = job.result()\n",
    " print(result)"
   ]
  },
  {
   "cell_type": "code",
   "execution_count": 16,
   "id": "b59ea7bf-8c27-42b0-b40b-6df298289cf9",
   "metadata": {},
   "outputs": [
    {
     "name": "stderr",
     "output_type": "stream",
     "text": [
      "/home/duke/braket/braket/lib/python3.10/site-packages/qiskit/visualization/circuit/matplotlib.py:266: FutureWarning: The default matplotlib drawer scheme will be changed to \"iqp\" in a following release. To silence this warning, specify the current default explicitly as style=\"clifford\", or the new default as style=\"iqp\".\n",
      "  self._style, def_font_ratio = load_style(self._style)\n"
     ]
    },
    {
     "data": {
      "text/plain": [
       "EstimatorResult(values=array([ 0.05726485, -0.07137357,  0.08952681, -0.0703425 ,  1.31584189,\n",
       "        1.0789495 ]), metadata=[{'variance': 4.315357201665494, 'shots': 5008, 'readout_mitigation_num_twirled_circuits': 16, 'readout_mitigation_shots_calibration': 8192, 'warning': 'Optimization level clipped from 3 to 1'}, {'variance': 4.3135422769375475, 'shots': 5008, 'readout_mitigation_num_twirled_circuits': 16, 'readout_mitigation_shots_calibration': 8192, 'warning': 'Optimization level clipped from 3 to 1'}, {'variance': 2.5559896423509034, 'shots': 5008, 'readout_mitigation_num_twirled_circuits': 16, 'readout_mitigation_shots_calibration': 8192, 'warning': 'Optimization level clipped from 3 to 1'}, {'variance': 2.559056625783307, 'shots': 5008, 'readout_mitigation_num_twirled_circuits': 16, 'readout_mitigation_shots_calibration': 8192, 'warning': 'Optimization level clipped from 3 to 1'}, {'variance': 1.1740030960238013, 'shots': 5008, 'readout_mitigation_num_twirled_circuits': 16, 'readout_mitigation_shots_calibration': 8192, 'warning': 'Optimization level clipped from 3 to 1'}, {'variance': 1.741310934602385, 'shots': 5008, 'readout_mitigation_num_twirled_circuits': 16, 'readout_mitigation_shots_calibration': 8192, 'warning': 'Optimization level clipped from 3 to 1'}])"
      ]
     },
     "execution_count": 16,
     "metadata": {},
     "output_type": "execute_result"
    }
   ],
   "source": [
    "# Create a new circuit with two qubits (first argument) and two classical\n",
    "# bits (second argument)\n",
    "qc = QuantumCircuit(2)\n",
    " \n",
    "# Add a Hadamard gate to qubit 0\n",
    "qc.h(0)\n",
    " \n",
    "# Perform a controlled-X gate on qubit 1, controlled by qubit 0\n",
    "qc.cx(0, 1)\n",
    " \n",
    "# Return a drawing of the circuit using MatPlotLib (\"mpl\"). This is the\n",
    "# last line of the cell, so the drawing appears in the cell output.\n",
    "# Remove the \"mpl\" argument to get a text drawing.\n",
    "qc.draw(\"mpl\")\n",
    "\n",
    "\n",
    "# The following code cell uses the quantum_info package to create the two-qubit Pauli operator Z on qubit 1 and Z on qubit 2. \n",
    "# If the state is entangled, then the correlation between qubit 1 and qubit 2 is one. \n",
    "ZZ = Pauli('ZZ')\n",
    "ZI = Pauli('ZI')\n",
    "IZ = Pauli('IZ')\n",
    "XX = Pauli('XX')\n",
    "XI = Pauli('XI')\n",
    "IX = Pauli('IX')\n",
    "\n",
    "# Run on the least-busy backend you have access to\n",
    "backend = service.least_busy(simulator=False, operational=True)\n",
    " \n",
    "options = Options()\n",
    "options.resilience_level = 1\n",
    "options.optimization_level = 3\n",
    " \n",
    "# Create an Estimator object\n",
    "estimator = Estimator(backend, options=options)\n",
    " \n",
    "# Submit the circuit to Estimator\n",
    "job = estimator.run(circuits=[qc]*6, observables=[IZ, IX, ZI, XI, ZZ, XX], shots = 5000)\n",
    "\n",
    "# monitor job\n",
    "job_monitor(job)\n",
    " \n",
    "# Once the job is complete, get the result  (blocking call)\n",
    "job.result()"
   ]
  },
  {
   "cell_type": "code",
   "execution_count": 20,
   "id": "4a72acca-83ec-4bec-b2ea-fcefb83e9a63",
   "metadata": {},
   "outputs": [
    {
     "name": "stdout",
     "output_type": "stream",
     "text": [
      "{'quantum_seconds': 26.468321087779735}\n"
     ]
    }
   ],
   "source": [
    "# see https://quantum.ibm.com/services/resources?tab=yours or https://quantum.ibm.com/ for visual job status\n",
    "job.status\n",
    "print(job.usage_estimation)"
   ]
  },
  {
   "cell_type": "code",
   "execution_count": 19,
   "id": "f33dac36-c817-4589-a4f0-b051e98a7c2f",
   "metadata": {},
   "outputs": [
    {
     "data": {
      "text/plain": [
       "[<RuntimeJob('cpz7fd5srbv0008zgj80', 'estimator')>,\n",
       " <RuntimeJob('cmv7aofn6tkp35gr8450', 'sampler')>]"
      ]
     },
     "execution_count": 19,
     "metadata": {},
     "output_type": "execute_result"
    }
   ],
   "source": [
    "service.jobs()"
   ]
  }
 ],
 "metadata": {
  "kernelspec": {
   "display_name": "Python 3 (ipykernel)",
   "language": "python",
   "name": "python3"
  },
  "language_info": {
   "codemirror_mode": {
    "name": "ipython",
    "version": 3
   },
   "file_extension": ".py",
   "mimetype": "text/x-python",
   "name": "python",
   "nbconvert_exporter": "python",
   "pygments_lexer": "ipython3",
   "version": "3.10.12"
  }
 },
 "nbformat": 4,
 "nbformat_minor": 5
}

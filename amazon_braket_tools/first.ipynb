{
 "cells": [
  {
   "cell_type": "code",
   "execution_count": 3,
   "id": "5f87cffd-af22-4f7d-b8f3-685f5bd552bb",
   "metadata": {},
   "outputs": [],
   "source": [
    "from braket.circuits import Circuit, Gate, Observable\n",
    "from braket.devices import LocalSimulator\n",
    "from braket.aws import AwsDevice\n",
    "import matplotlib.pyplot as plt\n",
    "%matplotlib inline"
   ]
  },
  {
   "cell_type": "code",
   "execution_count": 4,
   "id": "764b18ba-5e70-400a-aedf-b2bb7a567b6e",
   "metadata": {},
   "outputs": [
    {
     "name": "stdout",
     "output_type": "stream",
     "text": [
      "T  : |0|\n",
      "        \n",
      "q0 : -I-\n",
      "        \n",
      "q1 : -X-\n",
      "\n",
      "T  : |0|\n"
     ]
    }
   ],
   "source": [
    "bits = Circuit().i(0).x(1)  # create 2-qubit quantum circuit with I gate on qubit 0 and X gate on qubit 1\n",
    "print(bits)"
   ]
  },
  {
   "cell_type": "code",
   "execution_count": 5,
   "id": "6dc50233-19d7-4d6b-b615-154e02e33ef8",
   "metadata": {},
   "outputs": [
    {
     "name": "stdout",
     "output_type": "stream",
     "text": [
      "Counter({'01': 1000})\n"
     ]
    },
    {
     "data": {
      "text/plain": [
       "Text(0, 0.5, 'counts')"
      ]
     },
     "execution_count": 5,
     "metadata": {},
     "output_type": "execute_result"
    },
    {
     "data": {
      "image/png": "[encoded data removed]",
      "text/plain": [
       "<Figure size 640x480 with 1 Axes>"
      ]
     },
     "metadata": {},
     "output_type": "display_data"
    }
   ],
   "source": [
    "device = LocalSimulator()\n",
    "result = device.run(bits, shots=1000).result()\n",
    "counts = result.measurement_counts\n",
    "print(counts)\n",
    "plt.bar(counts.keys(), counts.values())\n",
    "plt.xlabel('states')\n",
    "plt.ylabel('counts')"
   ]
  },
  {
   "cell_type": "markdown",
   "id": "dcde6b4f-7e48-4a99-87d5-d3bcfd0f8ff3",
   "metadata": {},
   "source": [
    "# Convert decimal to quantum state representing the binary value"
   ]
  },
  {
   "cell_type": "code",
   "execution_count": 9,
   "id": "ceb2e094-e233-44a2-a23a-07bb1aad13c0",
   "metadata": {},
   "outputs": [],
   "source": [
    "def build_binary_circuit(decimal_number):\n",
    "    binary_num=bin(decimal_number)[2:]\n",
    "    num_qubits=len(binary_num)\n",
    "    print(binary_num)\n",
    "    binary_circuit=Circuit()\n",
    "    position=0\n",
    "    for bit in binary_num:\n",
    "        if bit=='0':\n",
    "            binary_circuit.i(position)\n",
    "        else:\n",
    "            binary_circuit.x(position)\n",
    "        position+=1\n",
    "    return(binary_circuit)\n",
    "    "
   ]
  },
  {
   "cell_type": "markdown",
   "id": "335fa712-8bf6-4e9d-8162-1f4b1ace38d9",
   "metadata": {},
   "source": [
    "### Run on local simulator"
   ]
  },
  {
   "cell_type": "code",
   "execution_count": 13,
   "id": "a79b8598-210a-4d75-b6d2-3419b73ab543",
   "metadata": {},
   "outputs": [
    {
     "name": "stdout",
     "output_type": "stream",
     "text": [
      "110\n",
      "T  : |0|\n",
      "        \n",
      "q0 : -X-\n",
      "        \n",
      "q1 : -X-\n",
      "        \n",
      "q2 : -I-\n",
      "\n",
      "T  : |0|\n",
      "Counter({'110': 1000})\n"
     ]
    },
    {
     "data": {
      "text/plain": [
       "Text(0, 0.5, 'counts')"
      ]
     },
     "execution_count": 13,
     "metadata": {},
     "output_type": "execute_result"
    },
    {
     "data": {
      "image/png": "[encoded data removed]",
      "text/plain": [
       "<Figure size 640x480 with 1 Axes>"
      ]
     },
     "metadata": {},
     "output_type": "display_data"
    }
   ],
   "source": [
    "binary_circuit=build_binary_circuit(6)\n",
    "print(binary_circuit)\n",
    "\n",
    "device = LocalSimulator()\n",
    "result = device.run(binary_circuit, shots=1000).result()\n",
    "counts = result.measurement_counts\n",
    "print(counts)\n",
    "plt.bar(counts.keys(), counts.values())\n",
    "plt.xlabel('states')\n",
    "plt.ylabel('counts')"
   ]
  },
  {
   "cell_type": "markdown",
   "id": "fb3eda6a-ca4d-4156-8c00-cd32de145922",
   "metadata": {},
   "source": [
    "### Run on Amazon Braket simulator"
   ]
  },
  {
   "cell_type": "code",
   "execution_count": 34,
   "id": "4d5daf01-40f5-4276-a521-d7939d6d2568",
   "metadata": {},
   "outputs": [],
   "source": [
    "my_bucket = \"amazon-braket-hamacher-useast1\"\n",
    "my_prefix = \"/\"\n",
    "s3_folder = (my_bucket, my_prefix)\n",
    "\n",
    "def run_circuit(device, circuit, shots, s3_folder):\n",
    "    result = device.run(binary_circuit, shots=shots, s3_destination_folder=s3_folder).result()\n",
    "    counts = result.measurement_counts\n",
    "    print(counts)\n",
    "    plt.bar(counts.keys(), counts.values())\n",
    "    plt.xlabel('states')\n",
    "    plt.ylabel('counts')\n",
    "    return(result)\n",
    "\n",
    "def actual_simulator_cost(device, result):\n",
    "    price_per_min = device.properties.service.deviceCost.price\n",
    "    price_per_ms = price_per_min/60/1000\n",
    "    unit = device.properties.service.deviceCost.unit\n",
    "    duration_ms = result.additional_metadata.simulatorMetadata.executionDuration\n",
    "    if unit == 'minute':\n",
    "        print('simulator cost per ', unit, ': $', price_per_min)\n",
    "        print('total execution time: ', duration_ms, \"ms\")\n",
    "        print('total estimated cost: $', duration_ms*price_per_ms)\n",
    "\n",
    "def set_device(Name):\n",
    "    device_list=AwsDevice.get_devices(names=Name)\n",
    "    if len(device_list)==1:\n",
    "        device=device_list[0]\n",
    "        print(device)\n",
    "        return(device)\n",
    "    else:\n",
    "        print('No device found')\n",
    "        print('use name from list', printValidDeviceNames(printAllDevices()))\n",
    "\n",
    "def estimate_cost(device,num_shots=1000):\n",
    "    cost_per_task=0.30\n",
    "    Name=device.name\n",
    "    if Name in ['SV1','TN1','dm1']:\n",
    "        price_per_min=device.properties.service.deviceCost.price\n",
    "        unit=device.properties.service.deviceCost.unit\n",
    "        print('simulator cost per ',unit,': $', price_per_min)\n",
    "        print('total cost cannot be estimated')\n",
    "    elif Name in['Forte 1','Harmony', 'Aquila', 'Lucy']:\n",
    "        price_per_shot=device.properties.service.deviceCost.price\n",
    "        unit=device.properties.service.deviceCost.unit\n",
    "        print('device cost per ',unit,': $', price_per_shot)\n",
    "        print('total cost for {} shots is ${:.2f}'.format(num_shots,cost_per_task+num_shots*price_per_shot))\n",
    "    else:\n",
    "        print('device not found')\n",
    "        print('use name from list', printValidDeviceNames(printAllDevices))\n",
    "\n",
    "def estimate_cost_measured_qubits(device,measured_qubits):\n",
    "    min_shots_per_variable=25\n",
    "    max_shots=device.properties.service.shotsRange[1]\n",
    "    print('max shots:', max_shots)\n",
    "    num_shots=min_shots_per_variable*2**measured_qubits\n",
    "    if num_shots>max_shots:\n",
    "        num_shots=max_shots\n",
    "        print('for {} measured qubits the maximum allowed shots: {:,}'.format(measured_qubits,num_shots))\n",
    "    else:\n",
    "        print('for {} measured qubits the number of shots recommended: {:,}'.format(measured_qubits,num_shots))\n",
    "    estimate_cost(device,num_shots)   "
   ]
  },
  {
   "cell_type": "code",
   "execution_count": 30,
   "id": "61015ab1-2bb2-44bc-89b3-5365344b4295",
   "metadata": {},
   "outputs": [
    {
     "name": "stdout",
     "output_type": "stream",
     "text": [
      "qubit count:  12\n",
      "101101010000\n",
      "T   : |0|\n",
      "         \n",
      "q0  : -X-\n",
      "         \n",
      "q1  : -I-\n",
      "         \n",
      "q2  : -X-\n",
      "         \n",
      "q3  : -X-\n",
      "         \n",
      "q4  : -I-\n",
      "         \n",
      "q5  : -X-\n",
      "         \n",
      "q6  : -I-\n",
      "         \n",
      "q7  : -X-\n",
      "         \n",
      "q8  : -I-\n",
      "         \n",
      "q9  : -I-\n",
      "         \n",
      "q10 : -I-\n",
      "         \n",
      "q11 : -I-\n",
      "\n",
      "T   : |0|\n"
     ]
    }
   ],
   "source": [
    "N=2896\n",
    "qubit_count=len(bin(N))-2\n",
    "print('qubit count: ', qubit_count)\n",
    "binary_circuit=build_binary_circuit(N)\n",
    "print(binary_circuit)"
   ]
  },
  {
   "cell_type": "code",
   "execution_count": 31,
   "id": "6a8c9314-0c6a-4cb3-9930-eac09a8dd1ad",
   "metadata": {},
   "outputs": [
    {
     "name": "stdout",
     "output_type": "stream",
     "text": [
      "Device('name': SV1, 'arn': arn:aws:braket:::device/quantum-simulator/amazon/sv1)\n",
      "max shots: 100000\n",
      "for 12 measured qubits the maximum allowed shots: 100,000\n",
      "simulator cost per  minute : $ 0.075\n",
      "total cost cannot be estimated\n"
     ]
    }
   ],
   "source": [
    "device=set_device('SV1')\n",
    "estimate_cost_measured_qubits(device, qubit_count)"
   ]
  },
  {
   "cell_type": "code",
   "execution_count": 32,
   "id": "088eb677-1e7a-476c-9120-f73519b7ea52",
   "metadata": {},
   "outputs": [
    {
     "name": "stdout",
     "output_type": "stream",
     "text": [
      "Counter({'101101010000': 10})\n"
     ]
    },
    {
     "data": {
      "image/png": "[encoded data removed]",
      "text/plain": [
       "<Figure size 640x480 with 1 Axes>"
      ]
     },
     "metadata": {},
     "output_type": "display_data"
    }
   ],
   "source": [
    "result=run_circuit(device, binary_circuit, 10, s3_folder)"
   ]
  },
  {
   "cell_type": "code",
   "execution_count": 35,
   "id": "e3723642-56f2-4a3a-8ef3-756bc6379832",
   "metadata": {},
   "outputs": [
    {
     "name": "stdout",
     "output_type": "stream",
     "text": [
      "simulator cost per  minute : $ 0.075\n",
      "total execution time:  2 ms\n",
      "total estimated cost: $ 2.5e-06\n"
     ]
    }
   ],
   "source": [
    "actual_simulator_cost(device, result)"
   ]
  },
  {
   "cell_type": "code",
   "execution_count": null,
   "id": "0a20ba3b-cff4-4f3a-aa9a-1adaa2c0228d",
   "metadata": {},
   "outputs": [],
   "source": []
  }
 ],
 "metadata": {
  "kernelspec": {
   "display_name": "Python 3 (ipykernel)",
   "language": "python",
   "name": "python3"
  },
  "language_info": {
   "codemirror_mode": {
    "name": "ipython",
    "version": 3
   },
   "file_extension": ".py",
   "mimetype": "text/x-python",
   "name": "python",
   "nbconvert_exporter": "python",
   "pygments_lexer": "ipython3",
   "version": "3.10.12"
  }
 },
 "nbformat": 4,
 "nbformat_minor": 5
}

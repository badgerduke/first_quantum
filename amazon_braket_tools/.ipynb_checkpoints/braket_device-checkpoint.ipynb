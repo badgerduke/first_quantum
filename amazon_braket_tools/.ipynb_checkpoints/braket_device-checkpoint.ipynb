{
 "cells": [
  {
   "cell_type": "code",
   "execution_count": 2,
   "id": "1c98522b-0d7f-4b38-9b38-8c8f6dfd2d39",
   "metadata": {},
   "outputs": [],
   "source": [
    "from braket.aws import AwsDevice"
   ]
  },
  {
   "cell_type": "code",
   "execution_count": 90,
   "id": "0dd369a5-06d2-4a7a-858f-7a0b4151c395",
   "metadata": {},
   "outputs": [],
   "source": [
    "def printAllDevices():\n",
    "    device_list=AwsDevice.get_devices(statuses=['ONLINE'])\n",
    "    print(device_list)\n",
    "    return device_list\n",
    "\n",
    "def printValidDeviceNames(device_list):    \n",
    "    device_name_list=[]\n",
    "    for device in device_list:\n",
    "        device_name_list.append(device.name)\n",
    "    print('Valid device names: ',device_name_list)\n",
    "    return device_name_list\n",
    "\n",
    "def printDevices(Name):\n",
    "    device=AwsDevice.get_devices(names=Name)\n",
    "    print(device)\n",
    "\n",
    "def set_device(Name):\n",
    "    device_list=AwsDevice.get_devices(names=Name)\n",
    "    if len(device_list)==1:\n",
    "        device=device_list[0]\n",
    "        print(device)\n",
    "        return(device)\n",
    "    else:\n",
    "        print('No device found')\n",
    "        print('use name from list', printValidDeviceNames(printAllDevices()))\n",
    "\n",
    "def estimate_cost(device,num_shots=1000):\n",
    "    cost_per_task=0.30\n",
    "    Name=device.name\n",
    "    if Name in ['SV1','TN1','dm1']:\n",
    "        price_per_min=device.properties.service.deviceCost.price\n",
    "        unit=device.properties.service.deviceCost.unit\n",
    "        print('simulator cost per ',unit,': $', price_per_min)\n",
    "        print('total cost cannot be estimated')\n",
    "    elif Name in['Forte 1','Harmony', 'Aquila', 'Lucy']:\n",
    "        price_per_shot=device.properties.service.deviceCost.price\n",
    "        unit=device.properties.service.deviceCost.unit\n",
    "        print('device cost per ',unit,': $', price_per_shot)\n",
    "        print('total cost for {} shots is ${:.2f}'.format(num_shots,cost_per_task+num_shots*price_per_shot))\n",
    "    else:\n",
    "        print('device not found')\n",
    "        print('use name from list', printValidDeviceNames(printAllDevices))\n",
    "\n",
    "def estimate_cost_measured_qubits(device,measured_qubits):\n",
    "    min_shots_per_variable=25\n",
    "    max_shots=device.properties.service.shotsRange[1]\n",
    "    print('max shots:', max_shots)\n",
    "    num_shots=min_shots_per_variable*2**measured_qubits\n",
    "    if num_shots>max_shots:\n",
    "        num_shots=max_shots\n",
    "        print('for {} measured qubits the maximum allowed shots: {:,}'.format(measured_qubits,num_shots))\n",
    "    else:\n",
    "        print('for {} measured qubits the number of shots recommended: {:,}'.format(measured_qubits,num_shots))\n",
    "    estimate_cost(device,num_shots)        \n",
    "\n",
    "def estimate_simulator_cost_max_qubits():\n",
    "    for Name in ['SV1','TN1','dm1']:\n",
    "        device=set_device(Name)\n",
    "        qubit_count = device.properties.paradigm.qubitCount\n",
    "        estimate_cost_measured_qubits(device, qubit_count)\n",
    "        print('---')\n",
    "\n",
    "def estimate_online_cost_max_qubits():\n",
    "    for Name in ['Forte 1', 'Harmony', 'Aquila', 'Lucy']:\n",
    "        device=set_device(Name)\n",
    "        if Name=='Forte 1':\n",
    "            qubit_count=36\n",
    "        if Name=='Aquila':\n",
    "            qubit_count=256\n",
    "        if Name=='Lucy':\n",
    "            qubit_count=8\n",
    "        elif Name=='Harmony':\n",
    "            qubit_count=11\n",
    "        estimate_cost_measured_qubits(device, qubit_count)\n",
    "        print('---')    \n"
   ]
  },
  {
   "cell_type": "code",
   "execution_count": 80,
   "id": "6ee53a49-8d2e-4b42-a622-e42f626a996a",
   "metadata": {},
   "outputs": [
    {
     "name": "stdout",
     "output_type": "stream",
     "text": [
      "[Device('name': Aquila, 'arn': arn:aws:braket:us-east-1::device/qpu/quera/Aquila), Device('name': Forte 1, 'arn': arn:aws:braket:us-east-1::device/qpu/ionq/Forte-1), Device('name': Harmony, 'arn': arn:aws:braket:us-east-1::device/qpu/ionq/Harmony), Device('name': Lucy, 'arn': arn:aws:braket:eu-west-2::device/qpu/oqc/Lucy), Device('name': SV1, 'arn': arn:aws:braket:::device/quantum-simulator/amazon/sv1), Device('name': TN1, 'arn': arn:aws:braket:::device/quantum-simulator/amazon/tn1), Device('name': dm1, 'arn': arn:aws:braket:::device/quantum-simulator/amazon/dm1)]\n"
     ]
    },
    {
     "data": {
      "text/plain": [
       "[Device('name': Aquila, 'arn': arn:aws:braket:us-east-1::device/qpu/quera/Aquila),\n",
       " Device('name': Forte 1, 'arn': arn:aws:braket:us-east-1::device/qpu/ionq/Forte-1),\n",
       " Device('name': Harmony, 'arn': arn:aws:braket:us-east-1::device/qpu/ionq/Harmony),\n",
       " Device('name': Lucy, 'arn': arn:aws:braket:eu-west-2::device/qpu/oqc/Lucy),\n",
       " Device('name': SV1, 'arn': arn:aws:braket:::device/quantum-simulator/amazon/sv1),\n",
       " Device('name': TN1, 'arn': arn:aws:braket:::device/quantum-simulator/amazon/tn1),\n",
       " Device('name': dm1, 'arn': arn:aws:braket:::device/quantum-simulator/amazon/dm1)]"
      ]
     },
     "execution_count": 80,
     "metadata": {},
     "output_type": "execute_result"
    }
   ],
   "source": [
    "printAllDevices()\n"
   ]
  },
  {
   "cell_type": "code",
   "execution_count": 81,
   "id": "825dcffb-0e4a-4700-b2ad-ddd721906016",
   "metadata": {},
   "outputs": [
    {
     "name": "stdout",
     "output_type": "stream",
     "text": [
      "[Device('name': Aquila, 'arn': arn:aws:braket:us-east-1::device/qpu/quera/Aquila), Device('name': Forte 1, 'arn': arn:aws:braket:us-east-1::device/qpu/ionq/Forte-1), Device('name': Harmony, 'arn': arn:aws:braket:us-east-1::device/qpu/ionq/Harmony), Device('name': Lucy, 'arn': arn:aws:braket:eu-west-2::device/qpu/oqc/Lucy), Device('name': SV1, 'arn': arn:aws:braket:::device/quantum-simulator/amazon/sv1), Device('name': TN1, 'arn': arn:aws:braket:::device/quantum-simulator/amazon/tn1), Device('name': dm1, 'arn': arn:aws:braket:::device/quantum-simulator/amazon/dm1)]\n",
      "Valid device names:  ['Aquila', 'Forte 1', 'Harmony', 'Lucy', 'SV1', 'TN1', 'dm1']\n"
     ]
    },
    {
     "data": {
      "text/plain": [
       "['Aquila', 'Forte 1', 'Harmony', 'Lucy', 'SV1', 'TN1', 'dm1']"
      ]
     },
     "execution_count": 81,
     "metadata": {},
     "output_type": "execute_result"
    }
   ],
   "source": [
    "printValidDeviceNames(printAllDevices())"
   ]
  },
  {
   "cell_type": "code",
   "execution_count": 82,
   "id": "495862fc-f226-49ff-b004-9d0aece94e35",
   "metadata": {},
   "outputs": [
    {
     "name": "stdout",
     "output_type": "stream",
     "text": [
      "[Device('name': SV1, 'arn': arn:aws:braket:::device/quantum-simulator/amazon/sv1)]\n"
     ]
    }
   ],
   "source": [
    "printDevices('SV1')"
   ]
  },
  {
   "cell_type": "code",
   "execution_count": 83,
   "id": "dd8e7c06-0d33-4f50-bb8b-4ba0bad8850b",
   "metadata": {},
   "outputs": [
    {
     "name": "stdout",
     "output_type": "stream",
     "text": [
      "Device('name': Harmony, 'arn': arn:aws:braket:us-east-1::device/qpu/ionq/Harmony)\n"
     ]
    }
   ],
   "source": [
    "device=set_device('Harmony')"
   ]
  },
  {
   "cell_type": "code",
   "execution_count": 84,
   "id": "cd791e1b-ef37-4409-a922-7a9dd8280951",
   "metadata": {},
   "outputs": [
    {
     "name": "stdout",
     "output_type": "stream",
     "text": [
      "device cost per  shot : $ 0.01\n",
      "total cost for 1000 shots is $10.30\n"
     ]
    }
   ],
   "source": [
    "estimate_cost(device)"
   ]
  },
  {
   "cell_type": "code",
   "execution_count": 85,
   "id": "78a0a092-6a26-4985-b9fb-15df59b352e8",
   "metadata": {},
   "outputs": [
    {
     "name": "stdout",
     "output_type": "stream",
     "text": [
      "max shots: 10000\n",
      "for 4 measured qubits the number of shots recommended: 400\n",
      "device cost per  shot : $ 0.01\n",
      "total cost for 400 shots is $4.30\n"
     ]
    }
   ],
   "source": [
    "estimate_cost_measured_qubits(device, 4)"
   ]
  },
  {
   "cell_type": "code",
   "execution_count": 86,
   "id": "20294214-840a-4c22-9be5-69a0c91bce89",
   "metadata": {},
   "outputs": [
    {
     "name": "stdout",
     "output_type": "stream",
     "text": [
      "Device('name': SV1, 'arn': arn:aws:braket:::device/quantum-simulator/amazon/sv1)\n",
      "max shots: 100000\n",
      "for 34 measured qubits the maximum allowed shots: 100,000\n",
      "simulator cost per  minute : $ 0.075\n",
      "total cost cannot be estimated\n",
      "---\n",
      "Device('name': TN1, 'arn': arn:aws:braket:::device/quantum-simulator/amazon/tn1)\n",
      "max shots: 1000\n",
      "for 50 measured qubits the maximum allowed shots: 1,000\n",
      "simulator cost per  minute : $ 0.275\n",
      "total cost cannot be estimated\n",
      "---\n",
      "Device('name': dm1, 'arn': arn:aws:braket:::device/quantum-simulator/amazon/dm1)\n",
      "max shots: 100000\n",
      "for 17 measured qubits the maximum allowed shots: 100,000\n",
      "simulator cost per  minute : $ 0.075\n",
      "total cost cannot be estimated\n",
      "---\n"
     ]
    }
   ],
   "source": [
    "estimate_simulator_cost_max_qubits()"
   ]
  },
  {
   "cell_type": "code",
   "execution_count": 91,
   "id": "83d4d968-e67e-4c6f-affe-f91377ec4cb5",
   "metadata": {},
   "outputs": [
    {
     "name": "stdout",
     "output_type": "stream",
     "text": [
      "Device('name': Forte 1, 'arn': arn:aws:braket:us-east-1::device/qpu/ionq/Forte-1)\n",
      "max shots: 10000\n",
      "for 36 measured qubits the maximum allowed shots: 10,000\n",
      "device cost per  shot : $ 0.0\n",
      "total cost for 10000 shots is $0.30\n",
      "---\n",
      "Device('name': Harmony, 'arn': arn:aws:braket:us-east-1::device/qpu/ionq/Harmony)\n",
      "max shots: 10000\n",
      "for 11 measured qubits the maximum allowed shots: 10,000\n",
      "device cost per  shot : $ 0.01\n",
      "total cost for 10000 shots is $100.30\n",
      "---\n",
      "Device('name': Aquila, 'arn': arn:aws:braket:us-east-1::device/qpu/quera/Aquila)\n",
      "max shots: 1000\n",
      "for 256 measured qubits the maximum allowed shots: 1,000\n",
      "device cost per  shot : $ 0.01\n",
      "total cost for 1000 shots is $10.30\n",
      "---\n",
      "Device('name': Lucy, 'arn': arn:aws:braket:eu-west-2::device/qpu/oqc/Lucy)\n",
      "max shots: 10000\n",
      "for 8 measured qubits the number of shots recommended: 6,400\n",
      "device cost per  shot : $ 0.00035\n",
      "total cost for 6400 shots is $2.54\n",
      "---\n"
     ]
    }
   ],
   "source": [
    "estimate_online_cost_max_qubits()"
   ]
  },
  {
   "cell_type": "code",
   "execution_count": null,
   "id": "ed8fbca1-eb4a-4621-88d3-1385aae933d0",
   "metadata": {},
   "outputs": [],
   "source": []
  }
 ],
 "metadata": {
  "kernelspec": {
   "display_name": "Python 3 (ipykernel)",
   "language": "python",
   "name": "python3"
  },
  "language_info": {
   "codemirror_mode": {
    "name": "ipython",
    "version": 3
   },
   "file_extension": ".py",
   "mimetype": "text/x-python",
   "name": "python",
   "nbconvert_exporter": "python",
   "pygments_lexer": "ipython3",
   "version": "3.10.12"
  }
 },
 "nbformat": 4,
 "nbformat_minor": 5
}
